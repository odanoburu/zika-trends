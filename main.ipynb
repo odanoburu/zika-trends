{
 "cells": [
  {
   "cell_type": "code",
   "execution_count": 1,
   "metadata": {
    "collapsed": false
   },
   "outputs": [],
   "source": [
    "import shapefile\n",
    "import geopandas as gpd\n",
    "import fiona\n",
    "import shapely\n",
    "import pyproj\n",
    "from shapely.geometry import *\n",
    "from matplotlib import pyplot as plt\n",
    "import pandas as pd\n",
    "import numpy as np"
   ]
  },
  {
   "cell_type": "code",
   "execution_count": 2,
   "metadata": {
    "collapsed": false
   },
   "outputs": [],
   "source": [
    "# from mpl_toolkits.basemap import Basemap\n",
    "# import matplotlib.pyplot as plt"
   ]
  },
  {
   "cell_type": "code",
   "execution_count": 3,
   "metadata": {
    "collapsed": false
   },
   "outputs": [],
   "source": [
    "# sf = shapefile.Reader(\"/home/marcio/MEGA/Datathon/Cobertura_Vegetal_e_Uso_da_Terra_2014/Cobertura_Vegetal_e_Uso_da_Terra_2014.shp\")"
   ]
  },
  {
   "cell_type": "code",
   "execution_count": 157,
   "metadata": {
    "collapsed": false,
    "scrolled": true
   },
   "outputs": [
    {
     "data": {
      "text/plain": [
       "16"
      ]
     },
     "execution_count": 157,
     "metadata": {},
     "output_type": "execute_result"
    }
   ],
   "source": [
    "uso_da_terra = gpd.read_file(\"/home/marcio/MEGA/Datathon/Cobertura_Vegetal_e_Uso_da_Terra_2014/Cobertura_Vegetal_e_Uso_da_Terra_2014.shp\")\n",
    "uso_da_terra[\"CLASSE_ig\"].unique()"
   ]
  },
  {
   "cell_type": "code",
   "execution_count": 162,
   "metadata": {
    "collapsed": false
   },
   "outputs": [
    {
     "data": {
      "text/plain": [
       "array(['Corpos d’água continentais', 'Vegetação gramíneo-lenhosa',\n",
       "       'Formação Pioneira com influência marinha',\n",
       "       'Vegetação arbórea não florestal', 'Áreas Urbanas', 'Praia',\n",
       "       'Formação Pioneira com influência flúvio-marinh',\n",
       "       'Formação Pioneira com influência flúvio-lacust', 'Uso agrícola',\n",
       "       'Floresta Ombrófila Densa', 'Afloramento Rochoso', 'Solo exposto',\n",
       "       'Reflorestamento', 'Atividades de Extração Mineral', 'Uso Agrícola',\n",
       "       'Corpos d’água costeiros'], dtype=object)"
      ]
     },
     "execution_count": 162,
     "metadata": {},
     "output_type": "execute_result"
    }
   ],
   "source": [
    "uso_da_terra[\"CLASSE_ig\"].unique()"
   ]
  },
  {
   "cell_type": "code",
   "execution_count": 163,
   "metadata": {
    "collapsed": false
   },
   "outputs": [
    {
     "data": {
      "text/plain": [
       "array(['Con', 'Vg', 'Rd', 'Vab', 'Au', 'P', 'Ma', 'Mh', 'Rh', 'Ra', 'Rb',\n",
       "       'Bh', 'Agp', 'Vao', 'V1b', 'V1s', 'V2s', 'Afs', 'V2b', 'Agt', 'Afc',\n",
       "       'V2m', 'Se', 'Vap', 'Rf', 'V3m', 'V1m', 'V3s', 'Vaf', 'Em', 'Bm',\n",
       "       'Cos', 'Ap'], dtype=object)"
      ]
     },
     "execution_count": 163,
     "metadata": {},
     "output_type": "execute_result"
    }
   ],
   "source": [
    "uso_da_terra[\"Sigla\"].unique()"
   ]
  },
  {
   "cell_type": "code",
   "execution_count": 14,
   "metadata": {
    "collapsed": false
   },
   "outputs": [
    {
     "data": {
      "text/html": [
       "<div>\n",
       "<table border=\"1\" class=\"dataframe\">\n",
       "  <thead>\n",
       "    <tr style=\"text-align: right;\">\n",
       "      <th></th>\n",
       "      <th>ANO</th>\n",
       "      <th>AREA_ha</th>\n",
       "      <th>AREA_m2</th>\n",
       "      <th>CLASSE_ig</th>\n",
       "      <th>ESTAGIO_SU</th>\n",
       "      <th>FORMACOES_</th>\n",
       "      <th>GRUPO_ig</th>\n",
       "      <th>Legenda</th>\n",
       "      <th>OBJECTID</th>\n",
       "      <th>OBJECTID_1</th>\n",
       "      <th>PERIMETRO</th>\n",
       "      <th>ShapeSTAre</th>\n",
       "      <th>ShapeSTLen</th>\n",
       "      <th>Shape_Leng</th>\n",
       "      <th>Sigla</th>\n",
       "      <th>geometry</th>\n",
       "    </tr>\n",
       "  </thead>\n",
       "  <tbody>\n",
       "    <tr>\n",
       "      <th>0</th>\n",
       "      <td>2014-01-01T00:00:00.000Z</td>\n",
       "      <td>0.868489</td>\n",
       "      <td>8684.889153</td>\n",
       "      <td>Corpos d’água continentais</td>\n",
       "      <td>None</td>\n",
       "      <td>None</td>\n",
       "      <td>Outros</td>\n",
       "      <td>Corpos d’água continentais</td>\n",
       "      <td>1</td>\n",
       "      <td>1</td>\n",
       "      <td>441.128326</td>\n",
       "      <td>8684.890137</td>\n",
       "      <td>441.128326</td>\n",
       "      <td>441.128326</td>\n",
       "      <td>Con</td>\n",
       "      <td>POLYGON ((646939.5791020403 7448855.807802822,...</td>\n",
       "    </tr>\n",
       "    <tr>\n",
       "      <th>1</th>\n",
       "      <td>2014-01-01T00:00:00.000Z</td>\n",
       "      <td>0.220934</td>\n",
       "      <td>2209.343321</td>\n",
       "      <td>Corpos d’água continentais</td>\n",
       "      <td>None</td>\n",
       "      <td>None</td>\n",
       "      <td>Outros</td>\n",
       "      <td>Corpos d’água continentais</td>\n",
       "      <td>2</td>\n",
       "      <td>2</td>\n",
       "      <td>241.436403</td>\n",
       "      <td>2209.344238</td>\n",
       "      <td>241.436403</td>\n",
       "      <td>241.436403</td>\n",
       "      <td>Con</td>\n",
       "      <td>POLYGON ((643857.576302072 7450526.225802864, ...</td>\n",
       "    </tr>\n",
       "  </tbody>\n",
       "</table>\n",
       "</div>"
      ],
      "text/plain": [
       "                        ANO   AREA_ha      AREA_m2  \\\n",
       "0  2014-01-01T00:00:00.000Z  0.868489  8684.889153   \n",
       "1  2014-01-01T00:00:00.000Z  0.220934  2209.343321   \n",
       "\n",
       "                    CLASSE_ig ESTAGIO_SU FORMACOES_ GRUPO_ig  \\\n",
       "0  Corpos d’água continentais       None       None   Outros   \n",
       "1  Corpos d’água continentais       None       None   Outros   \n",
       "\n",
       "                      Legenda  OBJECTID  OBJECTID_1   PERIMETRO   ShapeSTAre  \\\n",
       "0  Corpos d’água continentais         1           1  441.128326  8684.890137   \n",
       "1  Corpos d’água continentais         2           2  241.436403  2209.344238   \n",
       "\n",
       "   ShapeSTLen  Shape_Leng Sigla  \\\n",
       "0  441.128326  441.128326   Con   \n",
       "1  241.436403  241.436403   Con   \n",
       "\n",
       "                                            geometry  \n",
       "0  POLYGON ((646939.5791020403 7448855.807802822,...  \n",
       "1  POLYGON ((643857.576302072 7450526.225802864, ...  "
      ]
     },
     "execution_count": 14,
     "metadata": {},
     "output_type": "execute_result"
    }
   ],
   "source": [
    "uso_da_terra.head(2)"
   ]
  },
  {
   "cell_type": "code",
   "execution_count": 8,
   "metadata": {
    "collapsed": false
   },
   "outputs": [
    {
     "data": {
      "text/html": [
       "<div>\n",
       "<table border=\"1\" class=\"dataframe\">\n",
       "  <thead>\n",
       "    <tr style=\"text-align: right;\">\n",
       "      <th></th>\n",
       "      <th>AREA_PLANE</th>\n",
       "      <th>CODBAIRRO</th>\n",
       "      <th>CODRA</th>\n",
       "      <th>LINK</th>\n",
       "      <th>NOME</th>\n",
       "      <th>REGIAO_ADM</th>\n",
       "      <th>SHAPE_STAr</th>\n",
       "      <th>SHAPE_STLe</th>\n",
       "      <th>geometry</th>\n",
       "    </tr>\n",
       "  </thead>\n",
       "  <tbody>\n",
       "    <tr>\n",
       "      <th>0</th>\n",
       "      <td>1</td>\n",
       "      <td>13</td>\n",
       "      <td>21</td>\n",
       "      <td>Paqueta&amp;area=013</td>\n",
       "      <td>Paquetá</td>\n",
       "      <td>PAQUETA</td>\n",
       "      <td>1.705685e+06</td>\n",
       "      <td>24841.426669</td>\n",
       "      <td>(POLYGON ((692697.5299891517 7476634.890106629...</td>\n",
       "    </tr>\n",
       "    <tr>\n",
       "      <th>1</th>\n",
       "      <td>3</td>\n",
       "      <td>98</td>\n",
       "      <td>20</td>\n",
       "      <td>Freguesia (Ilha)          &amp;area=98</td>\n",
       "      <td>Freguesia (Ilha)</td>\n",
       "      <td>ILHA DO GOVERNADOR</td>\n",
       "      <td>4.056403e+06</td>\n",
       "      <td>18303.595718</td>\n",
       "      <td>(POLYGON ((689143.1898898408 7477498.200091433...</td>\n",
       "    </tr>\n",
       "  </tbody>\n",
       "</table>\n",
       "</div>"
      ],
      "text/plain": [
       "  AREA_PLANE CODBAIRRO  CODRA                                LINK  \\\n",
       "0          1        13     21                    Paqueta&area=013   \n",
       "1          3        98     20  Freguesia (Ilha)          &area=98   \n",
       "\n",
       "               NOME          REGIAO_ADM    SHAPE_STAr    SHAPE_STLe  \\\n",
       "0           Paquetá             PAQUETA  1.705685e+06  24841.426669   \n",
       "1  Freguesia (Ilha)  ILHA DO GOVERNADOR  4.056403e+06  18303.595718   \n",
       "\n",
       "                                            geometry  \n",
       "0  (POLYGON ((692697.5299891517 7476634.890106629...  \n",
       "1  (POLYGON ((689143.1898898408 7477498.200091433...  "
      ]
     },
     "execution_count": 8,
     "metadata": {},
     "output_type": "execute_result"
    }
   ],
   "source": [
    "bairros = gpd.read_file(\"/home/marcio/MEGA/Datathon/Bairros/Limite_de_Bairros.shp\")\n",
    "bairros.head(2)"
   ]
  },
  {
   "cell_type": "code",
   "execution_count": 7,
   "metadata": {
    "collapsed": false
   },
   "outputs": [
    {
     "data": {
      "image/png": "[encoded data removed]",
      "text/plain": [
       "<matplotlib.figure.Figure at 0x7fb35dc02780>"
      ]
     },
     "metadata": {},
     "output_type": "display_data"
    }
   ],
   "source": [
    "corpos_dagua_cont = uso_da_terra[uso_da_terra[\"CLASSE_ig\"] == 'Corpos d’água continentais']\n",
    "corpos_dagua_cont.plot(marker='*', color='blue', markersize=5);\n",
    "corpos_dagua_cont = corpos_dagua_cont.to_crs(bairros.crs)\n",
    "plt.show()"
   ]
  },
  {
   "cell_type": "code",
   "execution_count": 8,
   "metadata": {
    "collapsed": true
   },
   "outputs": [],
   "source": [
    "bairro_poly = bairros['geometry']\n",
    "corpos_dagua_continental_poly = uso_da_terra[uso_da_terra[\"CLASSE_ig\"] == 'Corpos d’água continentais']['geometry']"
   ]
  },
  {
   "cell_type": "code",
   "execution_count": 165,
   "metadata": {
    "collapsed": false,
    "scrolled": true
   },
   "outputs": [
    {
     "name": "stdout",
     "output_type": "stream",
     "text": [
      "{\n",
      "\"Corpos d’água continentais\" : 2 ,\n",
      "\"Vegetação gramíneo-lenhosa\" : 3 ,\n",
      "\"Formação Pioneira com influência marinha\" : 4 ,\n",
      "\"Vegetação arbórea não florestal\" : 5 ,\n",
      "\"Áreas Urbanas\" : 6 ,\n",
      "\"Praia\" : 7 ,\n",
      "\"Formação Pioneira com influência flúvio-marinh\" : 8 ,\n",
      "\"Formação Pioneira com influência flúvio-lacust\" : 9 ,\n",
      "\"Uso agrícola\" : 10 ,\n",
      "\"Floresta Ombrófila Densa\" : 11 ,\n",
      "\"Afloramento Rochoso\" : 12 ,\n",
      "\"Solo exposto\" : 13 ,\n",
      "\"Reflorestamento\" : 14 ,\n",
      "\"Atividades de Extração Mineral\" : 15 ,\n",
      "\"Uso Agrícola\" : 16 ,\n",
      "\"Corpos d’água costeiros\" : 17 ,\n",
      "}\n"
     ]
    }
   ],
   "source": [
    "i = 2\n",
    "print(\"{\")\n",
    "for sigla in uso_da_terra[\"CLASSE_ig\"].unique():\n",
    "    print('\"'+sigla+'\"', \":\", i, \",\")\n",
    "    i += 1\n",
    "print(\"}\")"
   ]
  },
  {
   "cell_type": "code",
   "execution_count": 166,
   "metadata": {
    "collapsed": false
   },
   "outputs": [],
   "source": [
    "dictionary = {\n",
    "\"Corpos d’água continentais\" : 2 ,\n",
    "\"Vegetação gramíneo-lenhosa\" : 3 ,\n",
    "\"Formação Pioneira com influência marinha\" : 4 ,\n",
    "\"Vegetação arbórea não florestal\" : 5 ,\n",
    "\"Áreas Urbanas\" : 6 ,\n",
    "\"Praia\" : 7 ,\n",
    "\"Formação Pioneira com influência flúvio-marinh\" : 8 ,\n",
    "\"Formação Pioneira com influência flúvio-lacust\" : 9 ,\n",
    "\"Uso agrícola\" : 10 ,\n",
    "\"Floresta Ombrófila Densa\" : 11 ,\n",
    "\"Afloramento Rochoso\" : 12 ,\n",
    "\"Solo exposto\" : 13 ,\n",
    "\"Reflorestamento\" : 14 ,\n",
    "\"Atividades de Extração Mineral\" : 15 ,\n",
    "\"Uso Agrícola\" : 16 ,\n",
    "\"Corpos d’água costeiros\" : 17\n",
    "}"
   ]
  },
  {
   "cell_type": "code",
   "execution_count": 167,
   "metadata": {
    "collapsed": false
   },
   "outputs": [],
   "source": [
    "def init_borough():\n",
    "    borough = []\n",
    "    borough.append(\"Nome\")\n",
    "    borough.append(\"Cod\")\n",
    "    for sig in dictionary.keys():\n",
    "        borough.append(0)\n",
    "    borough.append(0)\n",
    "    borough.append(0)\n",
    "    return borough"
   ]
  },
  {
   "cell_type": "code",
   "execution_count": 172,
   "metadata": {
    "collapsed": false,
    "scrolled": true
   },
   "outputs": [],
   "source": [
    "table = []\n",
    "for bairro in bairros[['NOME', 'CODBAIRRO', 'geometry']].iterrows():\n",
    "    b = init_borough()\n",
    "    b[0] = bairro[1]['NOME']\n",
    "    b[1] = bairro[1]['CODBAIRRO']\n",
    "    for udt in uso_da_terra[[\"CLASSE_ig\", 'geometry']].iterrows():\n",
    "        if(bairro[1]['geometry'].intersects(udt[1]['geometry'])):\n",
    "            b[dictionary[udt[1][\"CLASSE_ig\"]]] += bairro[1]['geometry'].intersection(udt[1]['geometry']).area\n",
    "    b[18] = bairro[1]['geometry'].area\n",
    "    table.append(b)"
   ]
  },
  {
   "cell_type": "code",
   "execution_count": 173,
   "metadata": {
    "collapsed": false
   },
   "outputs": [
    {
     "data": {
      "text/html": [
       "<div>\n",
       "<table border=\"1\" class=\"dataframe\">\n",
       "  <thead>\n",
       "    <tr style=\"text-align: right;\">\n",
       "      <th></th>\n",
       "      <th>Código do Item Geográfico</th>\n",
       "      <th>Nível Geográfico</th>\n",
       "      <th>Item Geográfico</th>\n",
       "      <th>Ordem Geográfica</th>\n",
       "      <th>Código do Item Temporal</th>\n",
       "      <th>Nível Temporal</th>\n",
       "      <th>Item Temporal</th>\n",
       "      <th>Sexo</th>\n",
       "      <th>Sexo (código)</th>\n",
       "      <th>Sexo (ordem)</th>\n",
       "      <th>Freqüência</th>\n",
       "      <th>Observações</th>\n",
       "    </tr>\n",
       "  </thead>\n",
       "  <tbody>\n",
       "    <tr>\n",
       "      <th>0</th>\n",
       "      <td>3304557</td>\n",
       "      <td>9235</td>\n",
       "      <td>RIO DE JANEIRO</td>\n",
       "      <td>1</td>\n",
       "      <td>2010</td>\n",
       "      <td>8030</td>\n",
       "      <td>31/07/2010</td>\n",
       "      <td>Masculino</td>\n",
       "      <td>1,00</td>\n",
       "      <td>1,00</td>\n",
       "      <td>2959817</td>\n",
       "      <td>2959817</td>\n",
       "    </tr>\n",
       "    <tr>\n",
       "      <th>1</th>\n",
       "      <td>3304557</td>\n",
       "      <td>9235</td>\n",
       "      <td>RIO DE JANEIRO</td>\n",
       "      <td>1</td>\n",
       "      <td>2010</td>\n",
       "      <td>8030</td>\n",
       "      <td>31/07/2010</td>\n",
       "      <td>Feminino</td>\n",
       "      <td>2,00</td>\n",
       "      <td>2,00</td>\n",
       "      <td>3360629</td>\n",
       "      <td>3360629</td>\n",
       "    </tr>\n",
       "  </tbody>\n",
       "</table>\n",
       "</div>"
      ],
      "text/plain": [
       "   Código do Item Geográfico  Nível Geográfico Item Geográfico  \\\n",
       "0                    3304557              9235  RIO DE JANEIRO   \n",
       "1                    3304557              9235  RIO DE JANEIRO   \n",
       "\n",
       "   Ordem Geográfica  Código do Item Temporal  Nível Temporal Item Temporal  \\\n",
       "0                 1                     2010            8030    31/07/2010   \n",
       "1                 1                     2010            8030    31/07/2010   \n",
       "\n",
       "        Sexo Sexo (código) Sexo (ordem)  Freqüência  Observações  \n",
       "0  Masculino          1,00         1,00     2959817      2959817  \n",
       "1   Feminino          2,00         2,00     3360629      3360629  "
      ]
     },
     "execution_count": 173,
     "metadata": {},
     "output_type": "execute_result"
    }
   ],
   "source": [
    "population =  pd.read_csv(\"/home/marcio/MEGA/Datathon/populacao.csv\", encoding=\"ISO8859-14\", sep=\";\")\n",
    "population.head(2)"
   ]
  },
  {
   "cell_type": "code",
   "execution_count": 174,
   "metadata": {
    "collapsed": false
   },
   "outputs": [],
   "source": [
    "population = population.drop([0,1])\n",
    "population['Código do Item Geográfico'] = population['Código do Item Geográfico'].astype(int).subtract(3304557000)"
   ]
  },
  {
   "cell_type": "code",
   "execution_count": 175,
   "metadata": {
    "collapsed": false
   },
   "outputs": [
    {
     "data": {
      "text/plain": [
       "array([ 60, 138,  57,  31, 125,  34,  82, 115,  99, 131, 143, 139,  28,\n",
       "        79,  37,  14,  42,  55, 111,   4, 132,  68,  94, 102,  72,  12,\n",
       "         5,  70,   1,  84,   7, 123, 114, 137,  67, 157,  18,  43,  13,\n",
       "       105, 140,  85, 148,  92,  58,  71, 150,  56,  51,   8,   9, 116,\n",
       "        86, 122,   2,  83,  23, 160,  10,  35, 124, 142, 145,  77,  16,\n",
       "       149, 104,  19,  66, 130, 146,  81, 155,  46,  22, 118, 117,  95,\n",
       "        21,  11,  20,  17,  52,  73,  96,  27,  36,  32, 158,  80, 147,\n",
       "        53, 120,  39,  78, 106,  98, 153,  44, 126, 154, 141,  87, 144,\n",
       "        40,  41,  59,  61, 112, 121,  29,  90, 113,  69,  38,  97, 135,\n",
       "        49, 109, 127,   6,  48,  76, 156,  50, 107, 128, 101,   3,  25,\n",
       "        26,  47, 152, 100, 103, 108,  89,  88, 119,  30,  54, 151,  75,\n",
       "        15, 134, 133, 159,  74,  63,  24,  45,  64,  33,  62,  93,  91,\n",
       "        65, 110])"
      ]
     },
     "execution_count": 175,
     "metadata": {},
     "output_type": "execute_result"
    }
   ],
   "source": [
    "pop = population[\"Código do Item Geográfico\"].unique()\n",
    "pop"
   ]
  },
  {
   "cell_type": "code",
   "execution_count": 178,
   "metadata": {
    "collapsed": false
   },
   "outputs": [],
   "source": [
    "table_copy = list(table)"
   ]
  },
  {
   "cell_type": "code",
   "execution_count": 179,
   "metadata": {
    "collapsed": false
   },
   "outputs": [],
   "source": [
    "for i in range(len(table_copy)):\n",
    "    for pop in population.iterrows():\n",
    "        if int(table_copy[i][1]) ==  pop[1][\"Código do Item Geográfico\"]:\n",
    "            table_copy[i][19] += pop[1][\"Observações\"]/table_copy[i][18]"
   ]
  },
  {
   "cell_type": "code",
   "execution_count": 181,
   "metadata": {
    "collapsed": false
   },
   "outputs": [],
   "source": [
    "tabela_bairros = pd.DataFrame(table_copy, columns=['Nome_do_bairro', 'Cod_do_bairro', 'Corpos d’água continentais', 'Vegetação gramíneo-lenhosa',\n",
    "       'Formação Pioneira com influência marinha',\n",
    "       'Vegetação arbórea não florestal', 'Áreas Urbanas', 'Praia',\n",
    "       'Formação Pioneira com influência flúvio-marinh',\n",
    "       'Formação Pioneira com influência flúvio-lacust', 'Uso agrícola',\n",
    "       'Floresta Ombrófila Densa', 'Afloramento Rochoso', 'Solo exposto',\n",
    "       'Reflorestamento', 'Atividades de Extração Mineral', 'Uso Agrícola',\n",
    "       'Corpos d’água costeiros', 'Área_do_bairro', 'Dens_pop'])"
   ]
  },
  {
   "cell_type": "code",
   "execution_count": 207,
   "metadata": {
    "collapsed": false
   },
   "outputs": [
    {
     "data": {
      "text/html": [
       "<div>\n",
       "<table border=\"1\" class=\"dataframe\">\n",
       "  <thead>\n",
       "    <tr style=\"text-align: right;\">\n",
       "      <th></th>\n",
       "      <th>Nome_do_bairro</th>\n",
       "      <th>Cod_do_bairro</th>\n",
       "      <th>Corpos d’água continentais</th>\n",
       "      <th>Vegetação gramíneo-lenhosa</th>\n",
       "      <th>Formação Pioneira com influência marinha</th>\n",
       "      <th>Vegetação arbórea não florestal</th>\n",
       "      <th>Áreas Urbanas</th>\n",
       "      <th>Praia</th>\n",
       "      <th>Formação Pioneira com influência flúvio-marinh</th>\n",
       "      <th>Formação Pioneira com influência flúvio-lacust</th>\n",
       "      <th>Uso agrícola</th>\n",
       "      <th>Floresta Ombrófila Densa</th>\n",
       "      <th>Afloramento Rochoso</th>\n",
       "      <th>Solo exposto</th>\n",
       "      <th>Reflorestamento</th>\n",
       "      <th>Atividades de Extração Mineral</th>\n",
       "      <th>Uso Agrícola</th>\n",
       "      <th>Corpos d’água costeiros</th>\n",
       "      <th>Área_do_bairro</th>\n",
       "      <th>Dens_pop</th>\n",
       "    </tr>\n",
       "  </thead>\n",
       "  <tbody>\n",
       "    <tr>\n",
       "      <th>100</th>\n",
       "      <td>Saúde</td>\n",
       "      <td>1</td>\n",
       "      <td>0.000000</td>\n",
       "      <td>0.000000</td>\n",
       "      <td>0.0</td>\n",
       "      <td>4519.678973</td>\n",
       "      <td>3.585646e+05</td>\n",
       "      <td>0.0</td>\n",
       "      <td>0.000000</td>\n",
       "      <td>0.0</td>\n",
       "      <td>0.0</td>\n",
       "      <td>0.0</td>\n",
       "      <td>0.000000</td>\n",
       "      <td>0.000000</td>\n",
       "      <td>0.00000</td>\n",
       "      <td>0.0</td>\n",
       "      <td>0.0</td>\n",
       "      <td>0.0</td>\n",
       "      <td>3.638176e+05</td>\n",
       "      <td>0.113084</td>\n",
       "    </tr>\n",
       "    <tr>\n",
       "      <th>95</th>\n",
       "      <td>Gamboa</td>\n",
       "      <td>2</td>\n",
       "      <td>0.000000</td>\n",
       "      <td>22973.255094</td>\n",
       "      <td>0.0</td>\n",
       "      <td>25068.565923</td>\n",
       "      <td>1.064491e+06</td>\n",
       "      <td>0.0</td>\n",
       "      <td>0.000000</td>\n",
       "      <td>0.0</td>\n",
       "      <td>0.0</td>\n",
       "      <td>0.0</td>\n",
       "      <td>0.000000</td>\n",
       "      <td>0.000000</td>\n",
       "      <td>0.00000</td>\n",
       "      <td>0.0</td>\n",
       "      <td>0.0</td>\n",
       "      <td>0.0</td>\n",
       "      <td>1.112903e+06</td>\n",
       "      <td>0.011778</td>\n",
       "    </tr>\n",
       "    <tr>\n",
       "      <th>96</th>\n",
       "      <td>Santo Cristo</td>\n",
       "      <td>3</td>\n",
       "      <td>11328.130861</td>\n",
       "      <td>0.000000</td>\n",
       "      <td>0.0</td>\n",
       "      <td>34472.372319</td>\n",
       "      <td>1.627065e+06</td>\n",
       "      <td>0.0</td>\n",
       "      <td>0.000000</td>\n",
       "      <td>0.0</td>\n",
       "      <td>0.0</td>\n",
       "      <td>0.0</td>\n",
       "      <td>2735.145889</td>\n",
       "      <td>0.000000</td>\n",
       "      <td>9001.28729</td>\n",
       "      <td>0.0</td>\n",
       "      <td>0.0</td>\n",
       "      <td>0.0</td>\n",
       "      <td>1.684721e+06</td>\n",
       "      <td>0.007319</td>\n",
       "    </tr>\n",
       "    <tr>\n",
       "      <th>157</th>\n",
       "      <td>Caju</td>\n",
       "      <td>4</td>\n",
       "      <td>65101.284417</td>\n",
       "      <td>82750.046254</td>\n",
       "      <td>0.0</td>\n",
       "      <td>357923.214032</td>\n",
       "      <td>4.746115e+06</td>\n",
       "      <td>0.0</td>\n",
       "      <td>63213.513426</td>\n",
       "      <td>0.0</td>\n",
       "      <td>0.0</td>\n",
       "      <td>0.0</td>\n",
       "      <td>0.000000</td>\n",
       "      <td>11887.198484</td>\n",
       "      <td>0.00000</td>\n",
       "      <td>0.0</td>\n",
       "      <td>0.0</td>\n",
       "      <td>0.0</td>\n",
       "      <td>5.347481e+06</td>\n",
       "      <td>0.003829</td>\n",
       "    </tr>\n",
       "    <tr>\n",
       "      <th>97</th>\n",
       "      <td>Centro</td>\n",
       "      <td>5</td>\n",
       "      <td>0.000000</td>\n",
       "      <td>0.000000</td>\n",
       "      <td>0.0</td>\n",
       "      <td>149648.884849</td>\n",
       "      <td>5.246767e+06</td>\n",
       "      <td>0.0</td>\n",
       "      <td>0.000000</td>\n",
       "      <td>0.0</td>\n",
       "      <td>0.0</td>\n",
       "      <td>0.0</td>\n",
       "      <td>0.000000</td>\n",
       "      <td>13657.030310</td>\n",
       "      <td>0.00000</td>\n",
       "      <td>0.0</td>\n",
       "      <td>0.0</td>\n",
       "      <td>0.0</td>\n",
       "      <td>5.424739e+06</td>\n",
       "      <td>0.002315</td>\n",
       "    </tr>\n",
       "  </tbody>\n",
       "</table>\n",
       "</div>"
      ],
      "text/plain": [
       "    Nome_do_bairro  Cod_do_bairro  Corpos d’água continentais  \\\n",
       "100          Saúde              1                    0.000000   \n",
       "95          Gamboa              2                    0.000000   \n",
       "96    Santo Cristo              3                11328.130861   \n",
       "157           Caju              4                65101.284417   \n",
       "97          Centro              5                    0.000000   \n",
       "\n",
       "     Vegetação gramíneo-lenhosa  Formação Pioneira com influência marinha  \\\n",
       "100                    0.000000                                       0.0   \n",
       "95                 22973.255094                                       0.0   \n",
       "96                     0.000000                                       0.0   \n",
       "157                82750.046254                                       0.0   \n",
       "97                     0.000000                                       0.0   \n",
       "\n",
       "     Vegetação arbórea não florestal  Áreas Urbanas  Praia  \\\n",
       "100                      4519.678973   3.585646e+05    0.0   \n",
       "95                      25068.565923   1.064491e+06    0.0   \n",
       "96                      34472.372319   1.627065e+06    0.0   \n",
       "157                    357923.214032   4.746115e+06    0.0   \n",
       "97                     149648.884849   5.246767e+06    0.0   \n",
       "\n",
       "     Formação Pioneira com influência flúvio-marinh  \\\n",
       "100                                        0.000000   \n",
       "95                                         0.000000   \n",
       "96                                         0.000000   \n",
       "157                                    63213.513426   \n",
       "97                                         0.000000   \n",
       "\n",
       "     Formação Pioneira com influência flúvio-lacust  Uso agrícola  \\\n",
       "100                                             0.0           0.0   \n",
       "95                                              0.0           0.0   \n",
       "96                                              0.0           0.0   \n",
       "157                                             0.0           0.0   \n",
       "97                                              0.0           0.0   \n",
       "\n",
       "     Floresta Ombrófila Densa  Afloramento Rochoso  Solo exposto  \\\n",
       "100                       0.0             0.000000      0.000000   \n",
       "95                        0.0             0.000000      0.000000   \n",
       "96                        0.0          2735.145889      0.000000   \n",
       "157                       0.0             0.000000  11887.198484   \n",
       "97                        0.0             0.000000  13657.030310   \n",
       "\n",
       "     Reflorestamento  Atividades de Extração Mineral  Uso Agrícola  \\\n",
       "100          0.00000                             0.0           0.0   \n",
       "95           0.00000                             0.0           0.0   \n",
       "96        9001.28729                             0.0           0.0   \n",
       "157          0.00000                             0.0           0.0   \n",
       "97           0.00000                             0.0           0.0   \n",
       "\n",
       "     Corpos d’água costeiros  Área_do_bairro  Dens_pop  \n",
       "100                      0.0    3.638176e+05  0.113084  \n",
       "95                       0.0    1.112903e+06  0.011778  \n",
       "96                       0.0    1.684721e+06  0.007319  \n",
       "157                      0.0    5.347481e+06  0.003829  \n",
       "97                       0.0    5.424739e+06  0.002315  "
      ]
     },
     "execution_count": 207,
     "metadata": {},
     "output_type": "execute_result"
    }
   ],
   "source": [
    "tabela_bairros['Cod_do_bairro'] = tabela_bairros['Cod_do_bairro'].astype(int)\n",
    "tabela_bairros = tabela_bairros.sort_values(\"Cod_do_bairro\")\n",
    "tabela_bairros.head(5)"
   ]
  },
  {
   "cell_type": "code",
   "execution_count": 204,
   "metadata": {
    "collapsed": true
   },
   "outputs": [],
   "source": [
    "tabela_bairros.to_csv(\"tabela_bairros.csv\")"
   ]
  },
  {
   "cell_type": "code",
   "execution_count": 218,
   "metadata": {
    "collapsed": false
   },
   "outputs": [],
   "source": [
    "lat_long = pyproj.Proj(\"+init=EPSG:4326\")\n",
    "ibge = pyproj.Proj(\"+init=EPSG:29183\")\n",
    "def coord_convert(x, y):\n",
    "    return pyproj.transform(lat_long, ibge, x, y )"
   ]
  },
  {
   "cell_type": "code",
   "execution_count": 4,
   "metadata": {
    "collapsed": false
   },
   "outputs": [
    {
     "data": {
      "text/html": [
       "<div>\n",
       "<table border=\"1\" class=\"dataframe\">\n",
       "  <thead>\n",
       "    <tr style=\"text-align: right;\">\n",
       "      <th></th>\n",
       "      <th>Unnamed: 0</th>\n",
       "      <th>ID_AGRAVO</th>\n",
       "      <th>DT_NOTIFIC</th>\n",
       "      <th>SEM_NOT</th>\n",
       "      <th>ID_MUNICIP</th>\n",
       "      <th>DT_SIN_PRI</th>\n",
       "      <th>DT_NASC</th>\n",
       "      <th>CS_SEXO</th>\n",
       "      <th>ID_DISTRIT</th>\n",
       "      <th>ID_BAIRRO</th>\n",
       "      <th>NM_BAIRRO</th>\n",
       "      <th>DT_OBITO</th>\n",
       "      <th>latitude</th>\n",
       "      <th>longitude</th>\n",
       "    </tr>\n",
       "  </thead>\n",
       "  <tbody>\n",
       "    <tr>\n",
       "      <th>7629</th>\n",
       "      <td>7741</td>\n",
       "      <td>A90</td>\n",
       "      <td>2015-12-18</td>\n",
       "      <td>50</td>\n",
       "      <td>330455</td>\n",
       "      <td>2015-12-17</td>\n",
       "      <td>1928-10-11</td>\n",
       "      <td>M</td>\n",
       "      <td>130</td>\n",
       "      <td>0</td>\n",
       "      <td>TIJUCA</td>\n",
       "      <td>NaN</td>\n",
       "      <td>-22.93249</td>\n",
       "      <td>-43.2383</td>\n",
       "    </tr>\n",
       "    <tr>\n",
       "      <th>5207</th>\n",
       "      <td>5288</td>\n",
       "      <td>A90</td>\n",
       "      <td>2015-12-10</td>\n",
       "      <td>49</td>\n",
       "      <td>330455</td>\n",
       "      <td>2015-12-05</td>\n",
       "      <td>1991-07-23</td>\n",
       "      <td>F</td>\n",
       "      <td>130</td>\n",
       "      <td>0</td>\n",
       "      <td>TIJUCA</td>\n",
       "      <td>NaN</td>\n",
       "      <td>-22.92616</td>\n",
       "      <td>-43.2370</td>\n",
       "    </tr>\n",
       "  </tbody>\n",
       "</table>\n",
       "</div>"
      ],
      "text/plain": [
       "      Unnamed: 0 ID_AGRAVO DT_NOTIFIC  SEM_NOT  ID_MUNICIP  DT_SIN_PRI  \\\n",
       "7629        7741       A90 2015-12-18       50      330455  2015-12-17   \n",
       "5207        5288       A90 2015-12-10       49      330455  2015-12-05   \n",
       "\n",
       "        DT_NASC CS_SEXO  ID_DISTRIT  ID_BAIRRO NM_BAIRRO DT_OBITO  latitude  \\\n",
       "7629 1928-10-11       M         130          0    TIJUCA      NaN -22.93249   \n",
       "5207 1991-07-23       F         130          0    TIJUCA      NaN -22.92616   \n",
       "\n",
       "      longitude  \n",
       "7629   -43.2383  \n",
       "5207   -43.2370  "
      ]
     },
     "execution_count": 4,
     "metadata": {},
     "output_type": "execute_result"
    }
   ],
   "source": [
    "infectados = pd.read_csv(\"/home/marcio/MEGA/Datathon/zikario.csv\")\n",
    "infectados['DT_NOTIFIC'] = pd.to_datetime(infectados['DT_NOTIFIC'])\n",
    "infectados['DT_NASC'] = pd.to_datetime(infectados['DT_NASC'])\n",
    "infectados['ID_BAIRRO'] = infectados['ID_BAIRRO'].astype(int)\n",
    "infectados = infectados.sort_values('ID_BAIRRO')\n",
    "infectados.head(2)"
   ]
  },
  {
   "cell_type": "code",
   "execution_count": 217,
   "metadata": {
    "collapsed": false
   },
   "outputs": [
    {
     "data": {
      "text/plain": [
       "109333"
      ]
     },
     "execution_count": 217,
     "metadata": {},
     "output_type": "execute_result"
    }
   ],
   "source": [
    "len(infectados)"
   ]
  },
  {
   "cell_type": "code",
   "execution_count": null,
   "metadata": {
    "collapsed": false
   },
   "outputs": [
    {
     "name": "stderr",
     "output_type": "stream",
     "text": [
      "/home/marcio/.local/lib/python3.5/site-packages/ipykernel/__main__.py:2: SettingWithCopyWarning: \n",
      "A value is trying to be set on a copy of a slice from a DataFrame\n",
      "\n",
      "See the caveats in the documentation: http://pandas.pydata.org/pandas-docs/stable/indexing.html#indexing-view-versus-copy\n",
      "  from ipykernel import kernelapp as app\n"
     ]
    }
   ],
   "source": [
    "for i in range(len(infectados)):\n",
    "    infectados['latitude'][i], infectados['longitude'][i] = coord_convert(infectados['latitude'][i], infectados['longitude'][i])"
   ]
  },
  {
   "cell_type": "code",
   "execution_count": null,
   "metadata": {
    "collapsed": true
   },
   "outputs": [],
   "source": [
    "for i in range(len(infectados)):\n",
    "    point = Point(infectados['latitude'][i],infectados['longitude'][i])\n",
    "        for bairro in bairros[['NOME', 'CODBAIRRO', 'geometry']].iterrows():\n",
    "            if(bairro[1]['geometry'].intersects(point):\n",
    "                infectados['ID_BAIRRO'][i] = bairro[1]['CODBAIRRO']\n",
    "                infectados['NM_BAIRRO'][i] = bairro[1]['NOME']"
   ]
  },
  {
   "cell_type": "code",
   "execution_count": 3,
   "metadata": {
    "collapsed": true
   },
   "outputs": [],
   "source": [
    "def levenshtein_distance(string_1, string_2):\n",
    "    try:\n",
    "        m = len(string_1)+1\n",
    "        n = len(string_2)+1\n",
    "        ld = np.zeros((n, m))\n",
    "        for i in range(n):\n",
    "            ld[i][0] = i\n",
    "        for j in range(m):\n",
    "            ld[0][j] = j\n",
    "        for j in range(1, m):\n",
    "            for i in range(1, n):\n",
    "                if string_1[j-1] is string_2[i-1]:\n",
    "                    ld[i][j] = ld[i-1][j-1]\n",
    "                else:\n",
    "                    ld[i, j] = np.min([ld[i-1][j] + 1, ld[i][j-1] + 1, ld[i-1][j-1] + 1])\n",
    "        return ld[n-1][m-1]/float(len(string_2))\n",
    "    except ZeroDivisionError as e:\n",
    "        print(e.args)"
   ]
  },
  {
   "cell_type": "code",
   "execution_count": 6,
   "metadata": {
    "collapsed": false
   },
   "outputs": [],
   "source": [
    "infectados['NM_BAIRRO'] = infectados['NM_BAIRRO'].str.lower()"
   ]
  },
  {
   "cell_type": "code",
   "execution_count": 11,
   "metadata": {
    "collapsed": false
   },
   "outputs": [],
   "source": [
    "infectados['NM_BAIRRO'] = infectados['NM_BAIRRO'].astype(str)"
   ]
  },
  {
   "cell_type": "code",
   "execution_count": null,
   "metadata": {
    "collapsed": false
   },
   "outputs": [
    {
     "name": "stderr",
     "output_type": "stream",
     "text": [
      "/home/marcio/.local/lib/python3.5/site-packages/ipykernel/__main__.py:6: SettingWithCopyWarning: \n",
      "A value is trying to be set on a copy of a slice from a DataFrame\n",
      "\n",
      "See the caveats in the documentation: http://pandas.pydata.org/pandas-docs/stable/indexing.html#indexing-view-versus-copy\n"
     ]
    }
   ],
   "source": [
    "for i in range(len(infectados)):\n",
    "    d1 = 100\n",
    "    for bairro in bairros[['NOME', 'CODBAIRRO', 'geometry']].iterrows():\n",
    "        d = levenshtein_distance(infectados['NM_BAIRRO'][i], bairro[1]['NOME'])\n",
    "        if d < d1:\n",
    "            infectados['ID_BAIRRO'][i] = bairro[1]['CODBAIRRO']\n",
    "            d1 = d"
   ]
  },
  {
   "cell_type": "code",
   "execution_count": null,
   "metadata": {
    "collapsed": true
   },
   "outputs": [],
   "source": []
  }
 ],
 "metadata": {
  "kernelspec": {
   "display_name": "Python 3",
   "language": "python",
   "name": "python3"
  },
  "language_info": {
   "codemirror_mode": {
    "name": "ipython",
    "version": 3
   },
   "file_extension": ".py",
   "mimetype": "text/x-python",
   "name": "python",
   "nbconvert_exporter": "python",
   "pygments_lexer": "ipython3",
   "version": "3.5.2"
  }
 },
 "nbformat": 4,
 "nbformat_minor": 1
}
